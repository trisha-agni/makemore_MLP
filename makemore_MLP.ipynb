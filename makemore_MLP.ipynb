{
  "nbformat": 4,
  "nbformat_minor": 0,
  "metadata": {
    "colab": {
      "provenance": [],
      "authorship_tag": "ABX9TyMvMGhsKhXesmAon0jYa9A8",
      "include_colab_link": true
    },
    "kernelspec": {
      "name": "python3",
      "display_name": "Python 3"
    },
    "language_info": {
      "name": "python"
    }
  },
  "cells": [
    {
      "cell_type": "markdown",
      "metadata": {
        "id": "view-in-github",
        "colab_type": "text"
      },
      "source": [
        "<a href=\"https://colab.research.google.com/github/trisha-agni/makemore_MLP/blob/main/makemore_MLP.ipynb\" target=\"_parent\"><img src=\"https://colab.research.google.com/assets/colab-badge.svg\" alt=\"Open In Colab\"/></a>"
      ]
    },
    {
      "cell_type": "code",
      "execution_count": 4,
      "metadata": {
        "id": "-P0JV-ni9gKU"
      },
      "outputs": [],
      "source": [
        "import torch\n",
        "import torch.nn.functional as F\n",
        "import matplotlib.pyplot as plt\n",
        "%matplotlib inline"
      ]
    },
    {
      "cell_type": "code",
      "source": [
        "# read in all the words\n",
        "words = open('names.txt', 'r').read().splitlines()\n",
        "words[:5]"
      ],
      "metadata": {
        "colab": {
          "base_uri": "https://localhost:8080/"
        },
        "id": "uVX-Exa5AdVn",
        "outputId": "dd7bd58d-3d56-434f-dcb9-429184e04368"
      },
      "execution_count": 5,
      "outputs": [
        {
          "output_type": "execute_result",
          "data": {
            "text/plain": [
              "['emma', 'olivia', 'ava', 'isabella', 'sophia']"
            ]
          },
          "metadata": {},
          "execution_count": 5
        }
      ]
    },
    {
      "cell_type": "code",
      "source": [
        "len(words)"
      ],
      "metadata": {
        "colab": {
          "base_uri": "https://localhost:8080/"
        },
        "id": "Pfx-h7B2B8Du",
        "outputId": "5326f89b-99a5-45f9-f615-abeb454184fb"
      },
      "execution_count": 6,
      "outputs": [
        {
          "output_type": "execute_result",
          "data": {
            "text/plain": [
              "32033"
            ]
          },
          "metadata": {},
          "execution_count": 6
        }
      ]
    },
    {
      "cell_type": "code",
      "source": [
        "# build the vocabulary of characters and mappings to/from integers\n",
        "chars = sorted(list(set(''.join(words))))\n",
        "stoi = {s:i+1 for i, s in enumerate(chars)}\n",
        "stoi['.'] = 0\n",
        "itos = {i:s for s, i in stoi.items()}\n",
        "print(stoi)\n",
        "print(itos)"
      ],
      "metadata": {
        "colab": {
          "base_uri": "https://localhost:8080/"
        },
        "id": "KnB8X0a0CAMk",
        "outputId": "c49ce221-f06a-4cdd-e5e2-86f4888e1279"
      },
      "execution_count": 7,
      "outputs": [
        {
          "output_type": "stream",
          "name": "stdout",
          "text": [
            "{'a': 1, 'b': 2, 'c': 3, 'd': 4, 'e': 5, 'f': 6, 'g': 7, 'h': 8, 'i': 9, 'j': 10, 'k': 11, 'l': 12, 'm': 13, 'n': 14, 'o': 15, 'p': 16, 'q': 17, 'r': 18, 's': 19, 't': 20, 'u': 21, 'v': 22, 'w': 23, 'x': 24, 'y': 25, 'z': 26, '.': 0}\n",
            "{1: 'a', 2: 'b', 3: 'c', 4: 'd', 5: 'e', 6: 'f', 7: 'g', 8: 'h', 9: 'i', 10: 'j', 11: 'k', 12: 'l', 13: 'm', 14: 'n', 15: 'o', 16: 'p', 17: 'q', 18: 'r', 19: 's', 20: 't', 21: 'u', 22: 'v', 23: 'w', 24: 'x', 25: 'y', 26: 'z', 0: '.'}\n"
          ]
        }
      ]
    },
    {
      "cell_type": "code",
      "source": [
        "# build the dataset\n",
        "block_size = 3 # context length: num chars needed to predict next char\n",
        "X, Y = [], []\n",
        "for w in words[:5]:\n",
        "  print(w)\n",
        "  context = [0] * block_size\n",
        "  for char in w + '.':\n",
        "    ix = stoi[char]\n",
        "    X.append(context)\n",
        "    Y.append(ix)\n",
        "    print(''.join(itos[i] for i in context), '--->', itos[ix])\n",
        "    context = context[1:] + [ix]\n",
        "X = torch.tensor(X)\n",
        "Y = torch.tensor(Y)"
      ],
      "metadata": {
        "colab": {
          "base_uri": "https://localhost:8080/"
        },
        "id": "H4ZMgMFJC1Ss",
        "outputId": "74ab66cc-7be6-4475-c559-58994eede086"
      },
      "execution_count": 8,
      "outputs": [
        {
          "output_type": "stream",
          "name": "stdout",
          "text": [
            "emma\n",
            "... ---> e\n",
            "..e ---> m\n",
            ".em ---> m\n",
            "emm ---> a\n",
            "mma ---> .\n",
            "olivia\n",
            "... ---> o\n",
            "..o ---> l\n",
            ".ol ---> i\n",
            "oli ---> v\n",
            "liv ---> i\n",
            "ivi ---> a\n",
            "via ---> .\n",
            "ava\n",
            "... ---> a\n",
            "..a ---> v\n",
            ".av ---> a\n",
            "ava ---> .\n",
            "isabella\n",
            "... ---> i\n",
            "..i ---> s\n",
            ".is ---> a\n",
            "isa ---> b\n",
            "sab ---> e\n",
            "abe ---> l\n",
            "bel ---> l\n",
            "ell ---> a\n",
            "lla ---> .\n",
            "sophia\n",
            "... ---> s\n",
            "..s ---> o\n",
            ".so ---> p\n",
            "sop ---> h\n",
            "oph ---> i\n",
            "phi ---> a\n",
            "hia ---> .\n"
          ]
        }
      ]
    },
    {
      "cell_type": "code",
      "source": [
        "X.shape, X.dtype, Y.shape, Y.dtype"
      ],
      "metadata": {
        "colab": {
          "base_uri": "https://localhost:8080/"
        },
        "id": "vwp2lD2IHVy0",
        "outputId": "d710f514-39c9-425c-edf4-65277ef543ff"
      },
      "execution_count": 9,
      "outputs": [
        {
          "output_type": "execute_result",
          "data": {
            "text/plain": [
              "(torch.Size([32, 3]), torch.int64, torch.Size([32]), torch.int64)"
            ]
          },
          "metadata": {},
          "execution_count": 9
        }
      ]
    },
    {
      "cell_type": "code",
      "source": [
        "X"
      ],
      "metadata": {
        "colab": {
          "base_uri": "https://localhost:8080/"
        },
        "id": "Ruz5JfjtHhOS",
        "outputId": "112340d8-2ffa-4b40-f43e-da2ce1ad9e9e"
      },
      "execution_count": 10,
      "outputs": [
        {
          "output_type": "execute_result",
          "data": {
            "text/plain": [
              "tensor([[ 0,  0,  0],\n",
              "        [ 0,  0,  5],\n",
              "        [ 0,  5, 13],\n",
              "        [ 5, 13, 13],\n",
              "        [13, 13,  1],\n",
              "        [ 0,  0,  0],\n",
              "        [ 0,  0, 15],\n",
              "        [ 0, 15, 12],\n",
              "        [15, 12,  9],\n",
              "        [12,  9, 22],\n",
              "        [ 9, 22,  9],\n",
              "        [22,  9,  1],\n",
              "        [ 0,  0,  0],\n",
              "        [ 0,  0,  1],\n",
              "        [ 0,  1, 22],\n",
              "        [ 1, 22,  1],\n",
              "        [ 0,  0,  0],\n",
              "        [ 0,  0,  9],\n",
              "        [ 0,  9, 19],\n",
              "        [ 9, 19,  1],\n",
              "        [19,  1,  2],\n",
              "        [ 1,  2,  5],\n",
              "        [ 2,  5, 12],\n",
              "        [ 5, 12, 12],\n",
              "        [12, 12,  1],\n",
              "        [ 0,  0,  0],\n",
              "        [ 0,  0, 19],\n",
              "        [ 0, 19, 15],\n",
              "        [19, 15, 16],\n",
              "        [15, 16,  8],\n",
              "        [16,  8,  9],\n",
              "        [ 8,  9,  1]])"
            ]
          },
          "metadata": {},
          "execution_count": 10
        }
      ]
    },
    {
      "cell_type": "code",
      "source": [
        "Y"
      ],
      "metadata": {
        "colab": {
          "base_uri": "https://localhost:8080/"
        },
        "id": "RGXsy3I7Hi5b",
        "outputId": "53ff6f44-621f-4c4a-95d6-fbe5cd833842"
      },
      "execution_count": 11,
      "outputs": [
        {
          "output_type": "execute_result",
          "data": {
            "text/plain": [
              "tensor([ 5, 13, 13,  1,  0, 15, 12,  9, 22,  9,  1,  0,  1, 22,  1,  0,  9, 19,\n",
              "         1,  2,  5, 12, 12,  1,  0, 19, 15, 16,  8,  9,  1,  0])"
            ]
          },
          "metadata": {},
          "execution_count": 11
        }
      ]
    },
    {
      "cell_type": "code",
      "source": [
        "C = torch.randn((27, 2))\n",
        "C"
      ],
      "metadata": {
        "colab": {
          "base_uri": "https://localhost:8080/"
        },
        "id": "CEekL3vZHj9q",
        "outputId": "72a81971-17fd-406e-820e-cae4e13b8d7c"
      },
      "execution_count": 12,
      "outputs": [
        {
          "output_type": "execute_result",
          "data": {
            "text/plain": [
              "tensor([[ 0.6599, -1.1703],\n",
              "        [-1.4582,  1.1701],\n",
              "        [-0.6291,  0.7913],\n",
              "        [-0.5775,  0.3662],\n",
              "        [ 0.2600, -0.1994],\n",
              "        [ 1.7383, -1.1982],\n",
              "        [ 1.9286,  0.2967],\n",
              "        [ 1.2202,  0.2195],\n",
              "        [ 0.0141, -0.6183],\n",
              "        [-0.6503, -0.2354],\n",
              "        [-0.0464, -1.3993],\n",
              "        [-0.0468, -0.2682],\n",
              "        [ 0.0811, -0.1543],\n",
              "        [-0.7913,  0.8419],\n",
              "        [-1.4261,  0.2657],\n",
              "        [ 0.4062,  2.3223],\n",
              "        [-0.8578,  0.1309],\n",
              "        [ 2.1426,  0.3087],\n",
              "        [ 0.9276,  0.2278],\n",
              "        [-0.8657,  0.0622],\n",
              "        [-0.3555, -0.7876],\n",
              "        [ 1.2819, -0.9415],\n",
              "        [ 0.0642, -0.7504],\n",
              "        [ 1.2434, -1.1916],\n",
              "        [ 0.0118, -0.8943],\n",
              "        [-0.3805,  0.4268],\n",
              "        [ 0.9072,  2.1625]])"
            ]
          },
          "metadata": {},
          "execution_count": 12
        }
      ]
    },
    {
      "cell_type": "code",
      "source": [
        "emb = C[X]\n",
        "emb.shape"
      ],
      "metadata": {
        "colab": {
          "base_uri": "https://localhost:8080/"
        },
        "id": "TKccI0ahH1ta",
        "outputId": "1c5404a2-e576-4a39-9036-92fa1779369f"
      },
      "execution_count": 13,
      "outputs": [
        {
          "output_type": "execute_result",
          "data": {
            "text/plain": [
              "torch.Size([32, 3, 2])"
            ]
          },
          "metadata": {},
          "execution_count": 13
        }
      ]
    },
    {
      "cell_type": "code",
      "source": [
        "emb"
      ],
      "metadata": {
        "colab": {
          "base_uri": "https://localhost:8080/"
        },
        "id": "oa61RL50JCzz",
        "outputId": "d6173ab6-6f44-4b45-f447-b3bc0e0734e8"
      },
      "execution_count": 14,
      "outputs": [
        {
          "output_type": "execute_result",
          "data": {
            "text/plain": [
              "tensor([[[ 0.6599, -1.1703],\n",
              "         [ 0.6599, -1.1703],\n",
              "         [ 0.6599, -1.1703]],\n",
              "\n",
              "        [[ 0.6599, -1.1703],\n",
              "         [ 0.6599, -1.1703],\n",
              "         [ 1.7383, -1.1982]],\n",
              "\n",
              "        [[ 0.6599, -1.1703],\n",
              "         [ 1.7383, -1.1982],\n",
              "         [-0.7913,  0.8419]],\n",
              "\n",
              "        [[ 1.7383, -1.1982],\n",
              "         [-0.7913,  0.8419],\n",
              "         [-0.7913,  0.8419]],\n",
              "\n",
              "        [[-0.7913,  0.8419],\n",
              "         [-0.7913,  0.8419],\n",
              "         [-1.4582,  1.1701]],\n",
              "\n",
              "        [[ 0.6599, -1.1703],\n",
              "         [ 0.6599, -1.1703],\n",
              "         [ 0.6599, -1.1703]],\n",
              "\n",
              "        [[ 0.6599, -1.1703],\n",
              "         [ 0.6599, -1.1703],\n",
              "         [ 0.4062,  2.3223]],\n",
              "\n",
              "        [[ 0.6599, -1.1703],\n",
              "         [ 0.4062,  2.3223],\n",
              "         [ 0.0811, -0.1543]],\n",
              "\n",
              "        [[ 0.4062,  2.3223],\n",
              "         [ 0.0811, -0.1543],\n",
              "         [-0.6503, -0.2354]],\n",
              "\n",
              "        [[ 0.0811, -0.1543],\n",
              "         [-0.6503, -0.2354],\n",
              "         [ 0.0642, -0.7504]],\n",
              "\n",
              "        [[-0.6503, -0.2354],\n",
              "         [ 0.0642, -0.7504],\n",
              "         [-0.6503, -0.2354]],\n",
              "\n",
              "        [[ 0.0642, -0.7504],\n",
              "         [-0.6503, -0.2354],\n",
              "         [-1.4582,  1.1701]],\n",
              "\n",
              "        [[ 0.6599, -1.1703],\n",
              "         [ 0.6599, -1.1703],\n",
              "         [ 0.6599, -1.1703]],\n",
              "\n",
              "        [[ 0.6599, -1.1703],\n",
              "         [ 0.6599, -1.1703],\n",
              "         [-1.4582,  1.1701]],\n",
              "\n",
              "        [[ 0.6599, -1.1703],\n",
              "         [-1.4582,  1.1701],\n",
              "         [ 0.0642, -0.7504]],\n",
              "\n",
              "        [[-1.4582,  1.1701],\n",
              "         [ 0.0642, -0.7504],\n",
              "         [-1.4582,  1.1701]],\n",
              "\n",
              "        [[ 0.6599, -1.1703],\n",
              "         [ 0.6599, -1.1703],\n",
              "         [ 0.6599, -1.1703]],\n",
              "\n",
              "        [[ 0.6599, -1.1703],\n",
              "         [ 0.6599, -1.1703],\n",
              "         [-0.6503, -0.2354]],\n",
              "\n",
              "        [[ 0.6599, -1.1703],\n",
              "         [-0.6503, -0.2354],\n",
              "         [-0.8657,  0.0622]],\n",
              "\n",
              "        [[-0.6503, -0.2354],\n",
              "         [-0.8657,  0.0622],\n",
              "         [-1.4582,  1.1701]],\n",
              "\n",
              "        [[-0.8657,  0.0622],\n",
              "         [-1.4582,  1.1701],\n",
              "         [-0.6291,  0.7913]],\n",
              "\n",
              "        [[-1.4582,  1.1701],\n",
              "         [-0.6291,  0.7913],\n",
              "         [ 1.7383, -1.1982]],\n",
              "\n",
              "        [[-0.6291,  0.7913],\n",
              "         [ 1.7383, -1.1982],\n",
              "         [ 0.0811, -0.1543]],\n",
              "\n",
              "        [[ 1.7383, -1.1982],\n",
              "         [ 0.0811, -0.1543],\n",
              "         [ 0.0811, -0.1543]],\n",
              "\n",
              "        [[ 0.0811, -0.1543],\n",
              "         [ 0.0811, -0.1543],\n",
              "         [-1.4582,  1.1701]],\n",
              "\n",
              "        [[ 0.6599, -1.1703],\n",
              "         [ 0.6599, -1.1703],\n",
              "         [ 0.6599, -1.1703]],\n",
              "\n",
              "        [[ 0.6599, -1.1703],\n",
              "         [ 0.6599, -1.1703],\n",
              "         [-0.8657,  0.0622]],\n",
              "\n",
              "        [[ 0.6599, -1.1703],\n",
              "         [-0.8657,  0.0622],\n",
              "         [ 0.4062,  2.3223]],\n",
              "\n",
              "        [[-0.8657,  0.0622],\n",
              "         [ 0.4062,  2.3223],\n",
              "         [-0.8578,  0.1309]],\n",
              "\n",
              "        [[ 0.4062,  2.3223],\n",
              "         [-0.8578,  0.1309],\n",
              "         [ 0.0141, -0.6183]],\n",
              "\n",
              "        [[-0.8578,  0.1309],\n",
              "         [ 0.0141, -0.6183],\n",
              "         [-0.6503, -0.2354]],\n",
              "\n",
              "        [[ 0.0141, -0.6183],\n",
              "         [-0.6503, -0.2354],\n",
              "         [-1.4582,  1.1701]]])"
            ]
          },
          "metadata": {},
          "execution_count": 14
        }
      ]
    },
    {
      "cell_type": "code",
      "source": [
        "W1 = torch.randn((6, 100))\n",
        "b1 = torch.randn(100)"
      ],
      "metadata": {
        "id": "1D5LSK-ONDDv"
      },
      "execution_count": 15,
      "outputs": []
    },
    {
      "cell_type": "code",
      "source": [
        "h = torch.tanh(emb.view(-1, 6) @ W1 + b1)"
      ],
      "metadata": {
        "id": "i8FKvInZNJ1f"
      },
      "execution_count": 16,
      "outputs": []
    },
    {
      "cell_type": "code",
      "source": [
        "h"
      ],
      "metadata": {
        "colab": {
          "base_uri": "https://localhost:8080/"
        },
        "id": "vNBtZQXvNO-D",
        "outputId": "12c8b316-3ef7-4e98-def2-a5661b66990f"
      },
      "execution_count": 17,
      "outputs": [
        {
          "output_type": "execute_result",
          "data": {
            "text/plain": [
              "tensor([[ 0.8246,  0.3283, -0.5424,  ...,  0.7922,  0.9861,  0.2610],\n",
              "        [ 0.9848,  0.9815, -0.8515,  ...,  0.9338,  0.9408, -0.9116],\n",
              "        [-0.4465, -0.8339, -0.9949,  ...,  0.7536, -0.3565,  0.7392],\n",
              "        ...,\n",
              "        [-0.8355, -0.7754,  0.9858,  ...,  0.9893,  0.9728,  0.8899],\n",
              "        [-0.9740, -0.9935,  0.7531,  ...,  0.6228,  0.6833,  0.9912],\n",
              "        [-0.9488, -0.5451, -0.9827,  ..., -0.8265, -0.7337,  1.0000]])"
            ]
          },
          "metadata": {},
          "execution_count": 17
        }
      ]
    },
    {
      "cell_type": "code",
      "source": [
        "h.shape"
      ],
      "metadata": {
        "colab": {
          "base_uri": "https://localhost:8080/"
        },
        "id": "xPA1RHkaNQAd",
        "outputId": "66b72211-3b01-4666-cfbc-503e1f461ec3"
      },
      "execution_count": 18,
      "outputs": [
        {
          "output_type": "execute_result",
          "data": {
            "text/plain": [
              "torch.Size([32, 100])"
            ]
          },
          "metadata": {},
          "execution_count": 18
        }
      ]
    },
    {
      "cell_type": "code",
      "source": [
        "W2 = torch.randn((100, 27))\n",
        "b2 = torch.randn(27)"
      ],
      "metadata": {
        "id": "qexzRxNyNjuo"
      },
      "execution_count": 19,
      "outputs": []
    },
    {
      "cell_type": "code",
      "source": [
        "logits = h @ W2 + b2"
      ],
      "metadata": {
        "id": "jN-Okrv7Qhha"
      },
      "execution_count": 20,
      "outputs": []
    },
    {
      "cell_type": "code",
      "source": [
        "logits.shape"
      ],
      "metadata": {
        "colab": {
          "base_uri": "https://localhost:8080/"
        },
        "id": "3YLVEg1wQkLz",
        "outputId": "77746601-0e10-4cc6-b396-0d9693d0c142"
      },
      "execution_count": 21,
      "outputs": [
        {
          "output_type": "execute_result",
          "data": {
            "text/plain": [
              "torch.Size([32, 27])"
            ]
          },
          "metadata": {},
          "execution_count": 21
        }
      ]
    },
    {
      "cell_type": "code",
      "source": [
        "counts = logits.exp()"
      ],
      "metadata": {
        "id": "ReBsK_bQQl65"
      },
      "execution_count": 22,
      "outputs": []
    },
    {
      "cell_type": "code",
      "source": [
        "prob = counts / counts.sum(1, keepdims = True)"
      ],
      "metadata": {
        "id": "hoXZgz7vQtGA"
      },
      "execution_count": 23,
      "outputs": []
    },
    {
      "cell_type": "code",
      "source": [
        "prob.shape"
      ],
      "metadata": {
        "colab": {
          "base_uri": "https://localhost:8080/"
        },
        "id": "UYteyEwURy6f",
        "outputId": "27298687-ce58-4b96-8c75-7645003b6174"
      },
      "execution_count": 24,
      "outputs": [
        {
          "output_type": "execute_result",
          "data": {
            "text/plain": [
              "torch.Size([32, 27])"
            ]
          },
          "metadata": {},
          "execution_count": 24
        }
      ]
    },
    {
      "cell_type": "code",
      "source": [
        "loss = -prob[torch.arange(32), Y].log().mean()\n",
        "loss"
      ],
      "metadata": {
        "colab": {
          "base_uri": "https://localhost:8080/"
        },
        "id": "ZFRRTFZ3R0U5",
        "outputId": "b650e5c0-79c9-4fdf-f67c-083f55c3effc"
      },
      "execution_count": 25,
      "outputs": [
        {
          "output_type": "execute_result",
          "data": {
            "text/plain": [
              "tensor(17.1688)"
            ]
          },
          "metadata": {},
          "execution_count": 25
        }
      ]
    },
    {
      "cell_type": "code",
      "source": [],
      "metadata": {
        "id": "EBC1a1pVJiav"
      },
      "execution_count": 25,
      "outputs": []
    }
  ]
}